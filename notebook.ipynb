{
 "cells": [
  {
   "cell_type": "markdown",
   "metadata": {},
   "source": [
    "Import all needed libraries"
   ]
  },
  {
   "cell_type": "code",
   "execution_count": 1,
   "metadata": {},
   "outputs": [],
   "source": [
    "import pandas as pd\n",
    "import tweepy\n",
    "import json\n",
    "import openpyxl"
   ]
  },
  {
   "cell_type": "markdown",
   "metadata": {},
   "source": [
    "Initialize all key/token from twitter dev account"
   ]
  },
  {
   "cell_type": "code",
   "execution_count": 2,
   "metadata": {},
   "outputs": [],
   "source": [
    "BEARER_TOKEN=\"AAAAAAAAAAAAAAAAAAAAAM83dAEAAAAAWT1TtZszobhCPxIZR6f9b91BDSc%3DeMQ2xqFg5xIo3DCfVaw6425OrFhsB4RDsECayTCINZGu5nmHLp\"\n",
    "CONSUMER_KEY=\"enmKycpRIXhHpadTaWtFMNWaz\"\n",
    "CONSUMER_SECRET=\"XwRRi9tqi1ll1j2LR6sh4iDA6SQYbl7mCDk2J7IyAlQzCMelYt\"\n",
    "ACCESS_TOKEN=\"1530207285846614022-76OlB8VGXhy2iikeghzeEqwxIufpHX\"\n",
    "ACCESS_TOKEN_SECRET=\"7E4o04GIpNnLOjko0cQTPtAhzOjyHKvJwMCe0jks0EZIb\""
   ]
  },
  {
   "cell_type": "markdown",
   "metadata": {},
   "source": [
    "Define function to initialize the API"
   ]
  },
  {
   "cell_type": "code",
   "execution_count": 3,
   "metadata": {},
   "outputs": [],
   "source": [
    "def getApi(bearer_token,consumer_key,consumer_secret,access_token,access_token_secret):\n",
    "    auth = tweepy.OAuthHandler(consumer_key, consumer_secret)\n",
    "    auth.set_access_token(access_token, access_token_secret)\n",
    "    api=tweepy.API(auth)\n",
    "    return api"
   ]
  },
  {
   "cell_type": "markdown",
   "metadata": {},
   "source": [
    "Initialize API"
   ]
  },
  {
   "cell_type": "code",
   "execution_count": 4,
   "metadata": {},
   "outputs": [],
   "source": [
    "api=getApi(BEARER_TOKEN,CONSUMER_KEY,CONSUMER_SECRET,ACCESS_TOKEN,ACCESS_TOKEN_SECRET)"
   ]
  },
  {
   "cell_type": "markdown",
   "metadata": {},
   "source": [
    "Initialize the user and tweet fields"
   ]
  },
  {
   "cell_type": "code",
   "execution_count": 73,
   "metadata": {},
   "outputs": [],
   "source": [
    "fields=['tweet_id','created_at','text','retweet_count','like_count','reply_count','username','followers','tweet_count','verified']\n",
    "query=\"Jokowi\""
   ]
  },
  {
   "cell_type": "markdown",
   "metadata": {},
   "source": [
    "Define function to get tweets using Premium Search Twitter API V.1"
   ]
  },
  {
   "cell_type": "code",
   "execution_count": 75,
   "metadata": {},
   "outputs": [],
   "source": [
    "def getTweets(api,query):\n",
    "    tweets=[]\n",
    "    for tweet in tweepy.Cursor(api.search_30_day,'skripsi30day',query=query,maxResults=10).items(10):\n",
    "        tweets.append(tweet)\n",
    "    return tweets"
   ]
  },
  {
   "cell_type": "markdown",
   "metadata": {},
   "source": [
    "Define function to get tweets using general Search Twitter API V.1"
   ]
  },
  {
   "cell_type": "code",
   "execution_count": 76,
   "metadata": {},
   "outputs": [],
   "source": [
    "def getTweetsReg(api,query):\n",
    "    tweets=[]\n",
    "    for tweet in tweepy.Cursor(api.search_tweets,q=query,count=100).items(10):\n",
    "        for tweet in tweets:\n",
    "            tweets.append(tweet)\n",
    "        return tweets"
   ]
  },
  {
   "cell_type": "markdown",
   "metadata": {},
   "source": [
    "Define function to create tweets dataframe"
   ]
  },
  {
   "cell_type": "code",
   "execution_count": 92,
   "metadata": {},
   "outputs": [],
   "source": [
    "def createDataFrame(tweets,fields):\n",
    "    df=pd.DataFrame(columns=fields)\n",
    "    for tweet in tweets:\n",
    "        data=tweet._json\n",
    "        user=data['user']\n",
    "        df1=pd.DataFrame({'tweet_count':[user['statuses_count']],'verified':[user['verified']],'followers':[user['followers_count']],'username':[user['screen_name']],'reply_count':[data['reply_count']],'like_count':[data['favorite_count']],'retweet_count':[data['retweet_count']],'tweet_id':[data['id']],'created_at':[data['created_at']],'text':[data['text']]})\n",
    "        df1['created_at']=df1['created_at']\n",
    "        df=df.append(df1,ignore_index=True)\n",
    "    return df\n",
    "\n",
    "        "
   ]
  },
  {
   "cell_type": "markdown",
   "metadata": {},
   "source": [
    "Search the tweets"
   ]
  },
  {
   "cell_type": "code",
   "execution_count": 93,
   "metadata": {},
   "outputs": [],
   "source": [
    "tweets=getTweets(api=api,query=query)"
   ]
  },
  {
   "cell_type": "markdown",
   "metadata": {},
   "source": [
    "Create tweets dataframe"
   ]
  },
  {
   "cell_type": "code",
   "execution_count": 94,
   "metadata": {},
   "outputs": [
    {
     "name": "stderr",
     "output_type": "stream",
     "text": [
      "C:\\Users\\ASUS\\AppData\\Local\\Temp\\ipykernel_20068\\1891789289.py:8: FutureWarning: The frame.append method is deprecated and will be removed from pandas in a future version. Use pandas.concat instead.\n",
      "  df=df.append(df1,ignore_index=True)\n"
     ]
    },
    {
     "data": {
      "text/html": [
       "<div>\n",
       "<style scoped>\n",
       "    .dataframe tbody tr th:only-of-type {\n",
       "        vertical-align: middle;\n",
       "    }\n",
       "\n",
       "    .dataframe tbody tr th {\n",
       "        vertical-align: top;\n",
       "    }\n",
       "\n",
       "    .dataframe thead th {\n",
       "        text-align: right;\n",
       "    }\n",
       "</style>\n",
       "<table border=\"1\" class=\"dataframe\">\n",
       "  <thead>\n",
       "    <tr style=\"text-align: right;\">\n",
       "      <th></th>\n",
       "      <th>tweet_id</th>\n",
       "      <th>created_at</th>\n",
       "      <th>text</th>\n",
       "      <th>retweet_count</th>\n",
       "      <th>like_count</th>\n",
       "      <th>reply_count</th>\n",
       "      <th>username</th>\n",
       "      <th>followers</th>\n",
       "      <th>tweet_count</th>\n",
       "      <th>verified</th>\n",
       "    </tr>\n",
       "  </thead>\n",
       "  <tbody>\n",
       "    <tr>\n",
       "      <th>0</th>\n",
       "      <td>1555174510793756672</td>\n",
       "      <td>Thu Aug 04 12:51:11 +0000 2022</td>\n",
       "      <td>Strategi pak joko jadi petugas partai dan king...</td>\n",
       "      <td>0</td>\n",
       "      <td>0</td>\n",
       "      <td>0</td>\n",
       "      <td>nugrohosudarso1</td>\n",
       "      <td>354</td>\n",
       "      <td>19909</td>\n",
       "      <td>False</td>\n",
       "    </tr>\n",
       "    <tr>\n",
       "      <th>1</th>\n",
       "      <td>1555174506221690882</td>\n",
       "      <td>Thu Aug 04 12:51:10 +0000 2022</td>\n",
       "      <td>Apresiasi Ayah Brigadir Yoshua untuk Jokowi da...</td>\n",
       "      <td>0</td>\n",
       "      <td>0</td>\n",
       "      <td>0</td>\n",
       "      <td>CacakSmith</td>\n",
       "      <td>0</td>\n",
       "      <td>55</td>\n",
       "      <td>False</td>\n",
       "    </tr>\n",
       "    <tr>\n",
       "      <th>2</th>\n",
       "      <td>1555174487930195968</td>\n",
       "      <td>Thu Aug 04 12:51:06 +0000 2022</td>\n",
       "      <td>The world's lungs are being encroached into pa...</td>\n",
       "      <td>0</td>\n",
       "      <td>0</td>\n",
       "      <td>0</td>\n",
       "      <td>tiyopujangga81</td>\n",
       "      <td>61</td>\n",
       "      <td>132</td>\n",
       "      <td>False</td>\n",
       "    </tr>\n",
       "    <tr>\n",
       "      <th>3</th>\n",
       "      <td>1555174479151566848</td>\n",
       "      <td>Thu Aug 04 12:51:04 +0000 2022</td>\n",
       "      <td>RT @buruhpapua28: Katanya saham sudah dimiliki...</td>\n",
       "      <td>0</td>\n",
       "      <td>0</td>\n",
       "      <td>0</td>\n",
       "      <td>boshalu</td>\n",
       "      <td>2676</td>\n",
       "      <td>14428</td>\n",
       "      <td>False</td>\n",
       "    </tr>\n",
       "    <tr>\n",
       "      <th>4</th>\n",
       "      <td>1555174469538566147</td>\n",
       "      <td>Thu Aug 04 12:51:01 +0000 2022</td>\n",
       "      <td>@SahabatSaber d kira haus jabatan Jokowi...\\nS...</td>\n",
       "      <td>0</td>\n",
       "      <td>0</td>\n",
       "      <td>0</td>\n",
       "      <td>ocukam</td>\n",
       "      <td>3381</td>\n",
       "      <td>17815</td>\n",
       "      <td>False</td>\n",
       "    </tr>\n",
       "    <tr>\n",
       "      <th>5</th>\n",
       "      <td>1555174390337511424</td>\n",
       "      <td>Thu Aug 04 12:50:43 +0000 2022</td>\n",
       "      <td>RT @bobby_risakotta: #BreakingNews \\n\\nPejabat...</td>\n",
       "      <td>0</td>\n",
       "      <td>0</td>\n",
       "      <td>0</td>\n",
       "      <td>SwanTWid</td>\n",
       "      <td>21</td>\n",
       "      <td>301</td>\n",
       "      <td>False</td>\n",
       "    </tr>\n",
       "    <tr>\n",
       "      <th>6</th>\n",
       "      <td>1555174385534713856</td>\n",
       "      <td>Thu Aug 04 12:50:41 +0000 2022</td>\n",
       "      <td>@SopirPormulaE @JinTogel @MrsRachelIn @herlan_...</td>\n",
       "      <td>0</td>\n",
       "      <td>0</td>\n",
       "      <td>0</td>\n",
       "      <td>YokL97</td>\n",
       "      <td>174</td>\n",
       "      <td>5878</td>\n",
       "      <td>False</td>\n",
       "    </tr>\n",
       "    <tr>\n",
       "      <th>7</th>\n",
       "      <td>1555174380249853952</td>\n",
       "      <td>Thu Aug 04 12:50:40 +0000 2022</td>\n",
       "      <td>@BadmintonTalk Pak Presiden @jokowi  Tolong be...</td>\n",
       "      <td>0</td>\n",
       "      <td>0</td>\n",
       "      <td>0</td>\n",
       "      <td>D___U___Y</td>\n",
       "      <td>105</td>\n",
       "      <td>63243</td>\n",
       "      <td>False</td>\n",
       "    </tr>\n",
       "    <tr>\n",
       "      <th>8</th>\n",
       "      <td>1555174365138132992</td>\n",
       "      <td>Thu Aug 04 12:50:37 +0000 2022</td>\n",
       "      <td>RT @Dandhy_Laksono: Di tangan rezim oligarki J...</td>\n",
       "      <td>0</td>\n",
       "      <td>0</td>\n",
       "      <td>0</td>\n",
       "      <td>DodiLatief</td>\n",
       "      <td>1018</td>\n",
       "      <td>64182</td>\n",
       "      <td>False</td>\n",
       "    </tr>\n",
       "    <tr>\n",
       "      <th>9</th>\n",
       "      <td>1555174364760637440</td>\n",
       "      <td>Thu Aug 04 12:50:36 +0000 2022</td>\n",
       "      <td>Jokowi’s strong commitment to downstream ore m...</td>\n",
       "      <td>0</td>\n",
       "      <td>0</td>\n",
       "      <td>0</td>\n",
       "      <td>bulletin_ex</td>\n",
       "      <td>116</td>\n",
       "      <td>145528</td>\n",
       "      <td>False</td>\n",
       "    </tr>\n",
       "  </tbody>\n",
       "</table>\n",
       "</div>"
      ],
      "text/plain": [
       "              tweet_id                      created_at  \\\n",
       "0  1555174510793756672  Thu Aug 04 12:51:11 +0000 2022   \n",
       "1  1555174506221690882  Thu Aug 04 12:51:10 +0000 2022   \n",
       "2  1555174487930195968  Thu Aug 04 12:51:06 +0000 2022   \n",
       "3  1555174479151566848  Thu Aug 04 12:51:04 +0000 2022   \n",
       "4  1555174469538566147  Thu Aug 04 12:51:01 +0000 2022   \n",
       "5  1555174390337511424  Thu Aug 04 12:50:43 +0000 2022   \n",
       "6  1555174385534713856  Thu Aug 04 12:50:41 +0000 2022   \n",
       "7  1555174380249853952  Thu Aug 04 12:50:40 +0000 2022   \n",
       "8  1555174365138132992  Thu Aug 04 12:50:37 +0000 2022   \n",
       "9  1555174364760637440  Thu Aug 04 12:50:36 +0000 2022   \n",
       "\n",
       "                                                text retweet_count like_count  \\\n",
       "0  Strategi pak joko jadi petugas partai dan king...             0          0   \n",
       "1  Apresiasi Ayah Brigadir Yoshua untuk Jokowi da...             0          0   \n",
       "2  The world's lungs are being encroached into pa...             0          0   \n",
       "3  RT @buruhpapua28: Katanya saham sudah dimiliki...             0          0   \n",
       "4  @SahabatSaber d kira haus jabatan Jokowi...\\nS...             0          0   \n",
       "5  RT @bobby_risakotta: #BreakingNews \\n\\nPejabat...             0          0   \n",
       "6  @SopirPormulaE @JinTogel @MrsRachelIn @herlan_...             0          0   \n",
       "7  @BadmintonTalk Pak Presiden @jokowi  Tolong be...             0          0   \n",
       "8  RT @Dandhy_Laksono: Di tangan rezim oligarki J...             0          0   \n",
       "9  Jokowi’s strong commitment to downstream ore m...             0          0   \n",
       "\n",
       "  reply_count         username followers tweet_count verified  \n",
       "0           0  nugrohosudarso1       354       19909    False  \n",
       "1           0       CacakSmith         0          55    False  \n",
       "2           0   tiyopujangga81        61         132    False  \n",
       "3           0          boshalu      2676       14428    False  \n",
       "4           0           ocukam      3381       17815    False  \n",
       "5           0         SwanTWid        21         301    False  \n",
       "6           0           YokL97       174        5878    False  \n",
       "7           0        D___U___Y       105       63243    False  \n",
       "8           0       DodiLatief      1018       64182    False  \n",
       "9           0      bulletin_ex       116      145528    False  "
      ]
     },
     "execution_count": 94,
     "metadata": {},
     "output_type": "execute_result"
    }
   ],
   "source": [
    "df=createDataFrame(tweets=tweets,fields=fields)\n",
    "df"
   ]
  },
  {
   "cell_type": "markdown",
   "metadata": {},
   "source": [
    "Export tweets into Excel file"
   ]
  },
  {
   "cell_type": "code",
   "execution_count": 86,
   "metadata": {},
   "outputs": [],
   "source": [
    "df.to_excel('tweets_export.xlsx')"
   ]
  }
 ],
 "metadata": {
  "kernelspec": {
   "display_name": "Python 3.8.0 64-bit",
   "language": "python",
   "name": "python3"
  },
  "language_info": {
   "codemirror_mode": {
    "name": "ipython",
    "version": 3
   },
   "file_extension": ".py",
   "mimetype": "text/x-python",
   "name": "python",
   "nbconvert_exporter": "python",
   "pygments_lexer": "ipython3",
   "version": "3.8.0"
  },
  "orig_nbformat": 4,
  "vscode": {
   "interpreter": {
    "hash": "ff0d91300876931207232d01add3156fa7c8214350996c757a3c6cebc4b3b5d5"
   }
  }
 },
 "nbformat": 4,
 "nbformat_minor": 2
}
