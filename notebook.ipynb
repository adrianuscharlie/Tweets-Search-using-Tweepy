{
 "cells": [
  {
   "cell_type": "markdown",
   "metadata": {},
   "source": [
    "Import all needed libraries"
   ]
  },
  {
   "cell_type": "code",
   "execution_count": 1,
   "metadata": {},
   "outputs": [],
   "source": [
    "import pandas as pd\n",
    "import tweepy\n",
    "import json\n",
    "import openpyxl"
   ]
  },
  {
   "cell_type": "markdown",
   "metadata": {},
   "source": [
    "Initialize all key/token from twitter dev account"
   ]
  },
  {
   "cell_type": "code",
   "execution_count": 2,
   "metadata": {},
   "outputs": [],
   "source": [
    "BEARER_TOKEN=\"\"\n",
    "CONSUMER_KEY=\"\"\n",
    "CONSUMER_SECRET=\"\"\n",
    "ACCESS_TOKEN=\"\"\n",
    "ACCESS_TOKEN_SECRET=\"\""
   ]
  },
  {
   "cell_type": "markdown",
   "metadata": {},
   "source": [
    "Define function to initialize the API"
   ]
  },
  {
   "cell_type": "code",
   "execution_count": 3,
   "metadata": {},
   "outputs": [],
   "source": [
    "def getApi(bearer_token,consumer_key,consumer_secret,access_token,access_token_secret):\n",
    "    auth = tweepy.OAuthHandler(consumer_key, consumer_secret)\n",
    "    auth.set_access_token(access_token, access_token_secret)\n",
    "    api=tweepy.API(auth)\n",
    "    return api"
   ]
  },
  {
   "cell_type": "markdown",
   "metadata": {},
   "source": [
    "Initialize API"
   ]
  },
  {
   "cell_type": "code",
   "execution_count": 4,
   "metadata": {},
   "outputs": [],
   "source": [
    "api=getApi(BEARER_TOKEN,CONSUMER_KEY,CONSUMER_SECRET,ACCESS_TOKEN,ACCESS_TOKEN_SECRET)"
   ]
  },
  {
   "cell_type": "markdown",
   "metadata": {},
   "source": [
    "Initialize the user and tweet fields"
   ]
  },
  {
   "cell_type": "code",
   "execution_count": 5,
   "metadata": {},
   "outputs": [],
   "source": [
    "fields=['tweet_id','created_at','text','retweet_count','like_count','reply_count','username','followers','tweet_count','verified']\n",
    "query=\"genunlimited\""
   ]
  },
  {
   "cell_type": "markdown",
   "metadata": {},
   "source": [
    "Define function to get tweets using Premium Search Twitter API V.1"
   ]
  },
  {
   "cell_type": "code",
   "execution_count": 10,
   "metadata": {},
   "outputs": [],
   "source": [
    "def getTweets(api,query,items):\n",
    "    tweets=[]\n",
    "    for tweet in tweepy.Cursor(api.search_30_day,'skripsi30day',query=query,maxResults=100).items(items):\n",
    "        tweets.append(tweet)\n",
    "    return tweets"
   ]
  },
  {
   "cell_type": "markdown",
   "metadata": {},
   "source": [
    "Define function to get tweets using general Search Twitter API V.1"
   ]
  },
  {
   "cell_type": "code",
   "execution_count": 76,
   "metadata": {},
   "outputs": [],
   "source": [
    "def getTweetsReg(api,query):\n",
    "    tweets=[]\n",
    "    for tweet in tweepy.Cursor(api.search_tweets,q=query,count=100).items(10):\n",
    "        tweets.append(tweet)\n",
    "    return tweets"
   ]
  },
  {
   "cell_type": "markdown",
   "metadata": {},
   "source": [
    "Define function to create tweets dataframe"
   ]
  },
  {
   "cell_type": "code",
   "execution_count": 11,
   "metadata": {},
   "outputs": [],
   "source": [
    "def createDataFrame(tweets,fields):\n",
    "    df=pd.DataFrame(columns=fields)\n",
    "    for tweet in tweets:\n",
    "        data=tweet._json\n",
    "        user=data['user']\n",
    "        df1=pd.DataFrame({'tweet_count':[user['statuses_count']],'verified':[user['verified']],'followers':[user['followers_count']],'username':[user['screen_name']],'reply_count':[data['reply_count']],'like_count':[data['favorite_count']],'retweet_count':[data['retweet_count']],'tweet_id':[data['id']],'created_at':[data['created_at']],'text':[data['text']]})\n",
    "        df1['created_at']=df1['created_at']\n",
    "        df=df.append(df1,ignore_index=True)\n",
    "    return df\n",
    "\n",
    "        "
   ]
  },
  {
   "cell_type": "markdown",
   "metadata": {},
   "source": [
    "Search the tweets"
   ]
  },
  {
   "cell_type": "code",
   "execution_count": 14,
   "metadata": {},
   "outputs": [],
   "source": [
    "tweets=getTweets(api=api,query=query,items=1000)"
   ]
  },
  {
   "cell_type": "markdown",
   "metadata": {},
   "source": [
    "Create tweets dataframe"
   ]
  },
  {
   "cell_type": "code",
   "execution_count": 15,
   "metadata": {},
   "outputs": [
    {
     "name": "stderr",
     "output_type": "stream",
     "text": [
      "C:\\Users\\ASUS\\AppData\\Local\\Temp\\ipykernel_3060\\1891789289.py:8: FutureWarning: The frame.append method is deprecated and will be removed from pandas in a future version. Use pandas.concat instead.\n",
      "  df=df.append(df1,ignore_index=True)\n"
     ]
    },
    {
     "data": {
      "text/html": [
       "<div>\n",
       "<style scoped>\n",
       "    .dataframe tbody tr th:only-of-type {\n",
       "        vertical-align: middle;\n",
       "    }\n",
       "\n",
       "    .dataframe tbody tr th {\n",
       "        vertical-align: top;\n",
       "    }\n",
       "\n",
       "    .dataframe thead th {\n",
       "        text-align: right;\n",
       "    }\n",
       "</style>\n",
       "<table border=\"1\" class=\"dataframe\">\n",
       "  <thead>\n",
       "    <tr style=\"text-align: right;\">\n",
       "      <th></th>\n",
       "      <th>tweet_id</th>\n",
       "      <th>created_at</th>\n",
       "      <th>text</th>\n",
       "      <th>retweet_count</th>\n",
       "      <th>like_count</th>\n",
       "      <th>reply_count</th>\n",
       "      <th>username</th>\n",
       "      <th>followers</th>\n",
       "      <th>tweet_count</th>\n",
       "      <th>verified</th>\n",
       "    </tr>\n",
       "  </thead>\n",
       "  <tbody>\n",
       "    <tr>\n",
       "      <th>0</th>\n",
       "      <td>1555310183660027904</td>\n",
       "      <td>Thu Aug 04 21:50:18 +0000 2022</td>\n",
       "      <td>RT @UNICEF: \"I want to hear your voice... No m...</td>\n",
       "      <td>0</td>\n",
       "      <td>0</td>\n",
       "      <td>0</td>\n",
       "      <td>4PXAZ66j2okxesQ</td>\n",
       "      <td>46</td>\n",
       "      <td>956</td>\n",
       "      <td>False</td>\n",
       "    </tr>\n",
       "    <tr>\n",
       "      <th>1</th>\n",
       "      <td>1555256155185614848</td>\n",
       "      <td>Thu Aug 04 18:15:37 +0000 2022</td>\n",
       "      <td>@GenUnlimited_ @DSTISierraLeone @UNICEFSL @inn...</td>\n",
       "      <td>0</td>\n",
       "      <td>0</td>\n",
       "      <td>0</td>\n",
       "      <td>fsgthird</td>\n",
       "      <td>1037</td>\n",
       "      <td>536</td>\n",
       "      <td>False</td>\n",
       "    </tr>\n",
       "    <tr>\n",
       "      <th>2</th>\n",
       "      <td>1555193002334855172</td>\n",
       "      <td>Thu Aug 04 14:04:40 +0000 2022</td>\n",
       "      <td>It is our responsibility to enlighten children...</td>\n",
       "      <td>0</td>\n",
       "      <td>0</td>\n",
       "      <td>0</td>\n",
       "      <td>ThabisoMonageng</td>\n",
       "      <td>587</td>\n",
       "      <td>6302</td>\n",
       "      <td>False</td>\n",
       "    </tr>\n",
       "    <tr>\n",
       "      <th>3</th>\n",
       "      <td>1555191316933378048</td>\n",
       "      <td>Thu Aug 04 13:57:58 +0000 2022</td>\n",
       "      <td>RT @DSTISierraLeone: Winning teams from the @G...</td>\n",
       "      <td>0</td>\n",
       "      <td>0</td>\n",
       "      <td>0</td>\n",
       "      <td>zipporah_hawa</td>\n",
       "      <td>93</td>\n",
       "      <td>77</td>\n",
       "      <td>False</td>\n",
       "    </tr>\n",
       "    <tr>\n",
       "      <th>4</th>\n",
       "      <td>1555190815634472965</td>\n",
       "      <td>Thu Aug 04 13:55:59 +0000 2022</td>\n",
       "      <td>Winning teams from the @GenUnlimited_ 🇸🇱 Natio...</td>\n",
       "      <td>1</td>\n",
       "      <td>4</td>\n",
       "      <td>0</td>\n",
       "      <td>DSTISierraLeone</td>\n",
       "      <td>7995</td>\n",
       "      <td>999</td>\n",
       "      <td>False</td>\n",
       "    </tr>\n",
       "    <tr>\n",
       "      <th>...</th>\n",
       "      <td>...</td>\n",
       "      <td>...</td>\n",
       "      <td>...</td>\n",
       "      <td>...</td>\n",
       "      <td>...</td>\n",
       "      <td>...</td>\n",
       "      <td>...</td>\n",
       "      <td>...</td>\n",
       "      <td>...</td>\n",
       "      <td>...</td>\n",
       "    </tr>\n",
       "    <tr>\n",
       "      <th>995</th>\n",
       "      <td>1546524406830227458</td>\n",
       "      <td>Mon Jul 11 15:58:46 +0000 2022</td>\n",
       "      <td>RT @muriel_mafico: Hearty congratulations @GFP...</td>\n",
       "      <td>0</td>\n",
       "      <td>0</td>\n",
       "      <td>0</td>\n",
       "      <td>sandrabisin</td>\n",
       "      <td>3595</td>\n",
       "      <td>40176</td>\n",
       "      <td>False</td>\n",
       "    </tr>\n",
       "    <tr>\n",
       "      <th>996</th>\n",
       "      <td>1546523524755591168</td>\n",
       "      <td>Mon Jul 11 15:55:15 +0000 2022</td>\n",
       "      <td>@kallenr94 @GenUnlimited_ @KevinJWFrey 👏👏👏</td>\n",
       "      <td>0</td>\n",
       "      <td>0</td>\n",
       "      <td>0</td>\n",
       "      <td>SaddamSayyaleh</td>\n",
       "      <td>3203</td>\n",
       "      <td>26032</td>\n",
       "      <td>False</td>\n",
       "    </tr>\n",
       "    <tr>\n",
       "      <th>997</th>\n",
       "      <td>1546516532796264454</td>\n",
       "      <td>Mon Jul 11 15:27:28 +0000 2022</td>\n",
       "      <td>RT @attadeepa: @_GenUnlimited @UNDP @UNVolunte...</td>\n",
       "      <td>0</td>\n",
       "      <td>0</td>\n",
       "      <td>0</td>\n",
       "      <td>asilihealthltd</td>\n",
       "      <td>144</td>\n",
       "      <td>357</td>\n",
       "      <td>False</td>\n",
       "    </tr>\n",
       "    <tr>\n",
       "      <th>998</th>\n",
       "      <td>1546515661400276993</td>\n",
       "      <td>Mon Jul 11 15:24:01 +0000 2022</td>\n",
       "      <td>@startuplag @TecheconomyNG @DigivationTV @tech...</td>\n",
       "      <td>0</td>\n",
       "      <td>0</td>\n",
       "      <td>1</td>\n",
       "      <td>EkoCarbon</td>\n",
       "      <td>107</td>\n",
       "      <td>262</td>\n",
       "      <td>False</td>\n",
       "    </tr>\n",
       "    <tr>\n",
       "      <th>999</th>\n",
       "      <td>1546515488716505090</td>\n",
       "      <td>Mon Jul 11 15:23:20 +0000 2022</td>\n",
       "      <td>@UNYouthEnvoy @GPforEducation @RestlessDev @AU...</td>\n",
       "      <td>0</td>\n",
       "      <td>0</td>\n",
       "      <td>0</td>\n",
       "      <td>essamebruno198</td>\n",
       "      <td>611</td>\n",
       "      <td>1279</td>\n",
       "      <td>False</td>\n",
       "    </tr>\n",
       "  </tbody>\n",
       "</table>\n",
       "<p>1000 rows × 10 columns</p>\n",
       "</div>"
      ],
      "text/plain": [
       "                tweet_id                      created_at  \\\n",
       "0    1555310183660027904  Thu Aug 04 21:50:18 +0000 2022   \n",
       "1    1555256155185614848  Thu Aug 04 18:15:37 +0000 2022   \n",
       "2    1555193002334855172  Thu Aug 04 14:04:40 +0000 2022   \n",
       "3    1555191316933378048  Thu Aug 04 13:57:58 +0000 2022   \n",
       "4    1555190815634472965  Thu Aug 04 13:55:59 +0000 2022   \n",
       "..                   ...                             ...   \n",
       "995  1546524406830227458  Mon Jul 11 15:58:46 +0000 2022   \n",
       "996  1546523524755591168  Mon Jul 11 15:55:15 +0000 2022   \n",
       "997  1546516532796264454  Mon Jul 11 15:27:28 +0000 2022   \n",
       "998  1546515661400276993  Mon Jul 11 15:24:01 +0000 2022   \n",
       "999  1546515488716505090  Mon Jul 11 15:23:20 +0000 2022   \n",
       "\n",
       "                                                  text retweet_count  \\\n",
       "0    RT @UNICEF: \"I want to hear your voice... No m...             0   \n",
       "1    @GenUnlimited_ @DSTISierraLeone @UNICEFSL @inn...             0   \n",
       "2    It is our responsibility to enlighten children...             0   \n",
       "3    RT @DSTISierraLeone: Winning teams from the @G...             0   \n",
       "4    Winning teams from the @GenUnlimited_ 🇸🇱 Natio...             1   \n",
       "..                                                 ...           ...   \n",
       "995  RT @muriel_mafico: Hearty congratulations @GFP...             0   \n",
       "996         @kallenr94 @GenUnlimited_ @KevinJWFrey 👏👏👏             0   \n",
       "997  RT @attadeepa: @_GenUnlimited @UNDP @UNVolunte...             0   \n",
       "998  @startuplag @TecheconomyNG @DigivationTV @tech...             0   \n",
       "999  @UNYouthEnvoy @GPforEducation @RestlessDev @AU...             0   \n",
       "\n",
       "    like_count reply_count         username followers tweet_count verified  \n",
       "0            0           0  4PXAZ66j2okxesQ        46         956    False  \n",
       "1            0           0         fsgthird      1037         536    False  \n",
       "2            0           0  ThabisoMonageng       587        6302    False  \n",
       "3            0           0    zipporah_hawa        93          77    False  \n",
       "4            4           0  DSTISierraLeone      7995         999    False  \n",
       "..         ...         ...              ...       ...         ...      ...  \n",
       "995          0           0      sandrabisin      3595       40176    False  \n",
       "996          0           0   SaddamSayyaleh      3203       26032    False  \n",
       "997          0           0   asilihealthltd       144         357    False  \n",
       "998          0           1        EkoCarbon       107         262    False  \n",
       "999          0           0   essamebruno198       611        1279    False  \n",
       "\n",
       "[1000 rows x 10 columns]"
      ]
     },
     "execution_count": 15,
     "metadata": {},
     "output_type": "execute_result"
    }
   ],
   "source": [
    "df=createDataFrame(tweets=tweets,fields=fields)\n",
    "df"
   ]
  },
  {
   "cell_type": "markdown",
   "metadata": {},
   "source": [
    "Export tweets into Excel file"
   ]
  },
  {
   "cell_type": "code",
   "execution_count": 16,
   "metadata": {},
   "outputs": [],
   "source": [
    "df.to_excel('tweets_export.xlsx')"
   ]
  }
 ],
 "metadata": {
  "kernelspec": {
   "display_name": "Python 3.8.0 64-bit",
   "language": "python",
   "name": "python3"
  },
  "language_info": {
   "codemirror_mode": {
    "name": "ipython",
    "version": 3
   },
   "file_extension": ".py",
   "mimetype": "text/x-python",
   "name": "python",
   "nbconvert_exporter": "python",
   "pygments_lexer": "ipython3",
   "version": "3.8.0"
  },
  "orig_nbformat": 4,
  "vscode": {
   "interpreter": {
    "hash": "ff0d91300876931207232d01add3156fa7c8214350996c757a3c6cebc4b3b5d5"
   }
  }
 },
 "nbformat": 4,
 "nbformat_minor": 2
}
